{
 "cells": [
  {
   "cell_type": "code",
   "execution_count": 1,
   "metadata": {},
   "outputs": [
    {
     "name": "stdout",
     "output_type": "stream",
     "text": [
      "Hello World\n"
     ]
    }
   ],
   "source": [
    "print(\"Hello World\")"
   ]
  },
  {
   "cell_type": "code",
   "execution_count": 4,
   "metadata": {},
   "outputs": [
    {
     "name": "stdout",
     "output_type": "stream",
     "text": [
      "enter first no.9\n",
      "enter second no.56\n",
      "65\n"
     ]
    }
   ],
   "source": [
    "i=int(input(\"enter first no.\"))\n",
    "j=int(input(\"enter second no.\"))\n",
    "sum=i+j\n",
    "print(sum)"
   ]
  },
  {
   "cell_type": "code",
   "execution_count": 29,
   "metadata": {},
   "outputs": [
    {
     "name": "stdout",
     "output_type": "stream",
     "text": [
      "enter :196\n",
      "14.0\n",
      "196\n"
     ]
    }
   ],
   "source": [
    "from math import sqrt\n",
    "k=int(input(\"enter :\"))\n",
    "l=math.sqrt(k)\n",
    "print(l,k,sep=\"\\n\")\n"
   ]
  },
  {
   "cell_type": "code",
   "execution_count": 49,
   "metadata": {},
   "outputs": [
    {
     "name": "stdout",
     "output_type": "stream",
     "text": [
      "1 2 3 4 5 6 7 8 9 10 11 12 13 14 15 16 17 18 19 20 21 22 23 24 25 26 27 28 29 30 31 32 33 34 35 36 37 38 39 40 41 42 43 44 45 46 47 48 49 50 51 52 53 54 55 56 57 58 59 60 61 62 63 64 65 66 67 68 69 70 71 72 73 74 75 76 77 78 79 80 81 82 83 84 85 86 87 88 89 90 91 92 93 94 95 96 97 98 99 100 "
     ]
    }
   ],
   "source": [
    "for var in range(1,101):\n",
    "    print(var,end=\" \")"
   ]
  },
  {
   "cell_type": "code",
   "execution_count": 55,
   "metadata": {},
   "outputs": [
    {
     "name": "stdout",
     "output_type": "stream",
     "text": [
      "Enterr X: 15\n",
      "Enter Y:10\n",
      "the value of x after swapping 10\n",
      "the value of y after swapping 15\n"
     ]
    }
   ],
   "source": [
    "#swap two variable\n",
    "x=int(input(\"Enterr X: \"))\n",
    "y=int(input(\"Enter Y:\"))\n",
    "x,y=y,x\n",
    "print(\"the value of x after swapping {}\".format(x))\n",
    "print(\"the value of y after swapping {}\".format(y))"
   ]
  },
  {
   "cell_type": "code",
   "execution_count": 54,
   "metadata": {},
   "outputs": [
    {
     "data": {
      "text/plain": [
       "184"
      ]
     },
     "execution_count": 54,
     "metadata": {},
     "output_type": "execute_result"
    }
   ],
   "source": [
    "#random no.\n",
    "from random import randint\n",
    "randint(1,500)"
   ]
  },
  {
   "cell_type": "code",
   "execution_count": 1,
   "metadata": {},
   "outputs": [
    {
     "name": "stdout",
     "output_type": "stream",
     "text": [
      "Enter the kilometers to convert it into miles :500\n",
      "Miles 310.65\n"
     ]
    }
   ],
   "source": [
    "#kilometers to miles\n",
    "j=int(input(\"Enter the kilometers to convert it into miles :\"))\n",
    "k=j*.6213\n",
    "print(\"Miles {}\".format(k))"
   ]
  },
  {
   "cell_type": "code",
   "execution_count": 2,
   "metadata": {},
   "outputs": [
    {
     "name": "stdout",
     "output_type": "stream",
     "text": [
      "Enter the miles to convert it into kilometers :250\n",
      "Kilometers 402.325\n"
     ]
    }
   ],
   "source": [
    "#miles to kilometers\n",
    "i=int(input(\"Enter the miles to convert it into kilometers :\"))\n",
    "t=i*1.6093\n",
    "print(\"Kilometers {}\".format(t))"
   ]
  },
  {
   "cell_type": "code",
   "execution_count": 3,
   "metadata": {},
   "outputs": [
    {
     "name": "stdout",
     "output_type": "stream",
     "text": [
      "Celcious :25\n",
      "Ferenheit  77.0\n"
     ]
    }
   ],
   "source": [
    "#celcious to farenhiet\n",
    "e=int(input(\"Celcious :\"))\n",
    "s=(e * 9/5)+32\n",
    "print(\"Ferenheit \",s)"
   ]
  },
  {
   "cell_type": "code",
   "execution_count": 5,
   "metadata": {},
   "outputs": [
    {
     "name": "stdout",
     "output_type": "stream",
     "text": [
      "Enter any no postive or negative :-56\n",
      "This is negative no.  -56\n"
     ]
    }
   ],
   "source": [
    "num=int(input(\"Enter any no postive or negative :\"))\n",
    "\n",
    "if num < 0:\n",
    "    print(\"This is negative no. \",num)\n",
    "elif num > 0:\n",
    "    print(\"This is positive no. \",num)\n",
    "else:\n",
    "    print(\"This is zero\",num)"
   ]
  },
  {
   "cell_type": "code",
   "execution_count": null,
   "metadata": {},
   "outputs": [],
   "source": [
    "u=int(input(\"Enter the units of your bill : \"))\n",
    "#k=0\n",
    "if u < 50:\n",
    "    print(\"{} this amount you have to pay for first {} units\".format(u*.5,u))\n",
    "    a=int(input(\"enter the second units of bill \"))\n",
    "elif a <= 150:\n",
    "    print(\"{} this amount you have to pay for second {} units\".format(u*.75,u))\n",
    "    b=int(input(\"enter the third units of bill\"))\n",
    "elif b <= 250:\n",
    "    print(\"{} this amount you have to pay for third {} units\".format(u*1.25,u))\n",
    "    c=int(input(\"enter the fourth units of bill\"))\n",
    "elif c <= 500:\n",
    "    print(\"{} this amount you have to pay for fourth {} units\".format(u*50,u))\n",
    "    \n"
   ]
  }
 ],
 "metadata": {
  "kernelspec": {
   "display_name": "Python 3",
   "language": "python",
   "name": "python3"
  },
  "language_info": {
   "codemirror_mode": {
    "name": "ipython",
    "version": 3
   },
   "file_extension": ".py",
   "mimetype": "text/x-python",
   "name": "python",
   "nbconvert_exporter": "python",
   "pygments_lexer": "ipython3",
   "version": "3.6.5"
  }
 },
 "nbformat": 4,
 "nbformat_minor": 2
}
