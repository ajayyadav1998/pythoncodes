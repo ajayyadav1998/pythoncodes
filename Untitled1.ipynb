{
 "cells": [
  {
   "cell_type": "code",
   "execution_count": 2,
   "metadata": {},
   "outputs": [],
   "source": [
    "x=56"
   ]
  },
  {
   "cell_type": "code",
   "execution_count": 5,
   "metadata": {},
   "outputs": [
    {
     "name": "stdout",
     "output_type": "stream",
     "text": [
      "['__abs__', '__add__', '__and__', '__bool__', '__ceil__', '__class__', '__delattr__', '__dir__', '__divmod__', '__doc__', '__eq__', '__float__', '__floor__', '__floordiv__', '__format__', '__ge__', '__getattribute__', '__getnewargs__', '__gt__', '__hash__', '__index__', '__init__', '__init_subclass__', '__int__', '__invert__', '__le__', '__lshift__', '__lt__', '__mod__', '__mul__', '__ne__', '__neg__', '__new__', '__or__', '__pos__', '__pow__', '__radd__', '__rand__', '__rdivmod__', '__reduce__', '__reduce_ex__', '__repr__', '__rfloordiv__', '__rlshift__', '__rmod__', '__rmul__', '__ror__', '__round__', '__rpow__', '__rrshift__', '__rshift__', '__rsub__', '__rtruediv__', '__rxor__', '__setattr__', '__sizeof__', '__str__', '__sub__', '__subclasshook__', '__truediv__', '__trunc__', '__xor__', 'bit_length', 'conjugate', 'denominator', 'from_bytes', 'imag', 'numerator', 'real', 'to_bytes']\n"
     ]
    }
   ],
   "source": [
    "print(dir(x))"
   ]
  },
  {
   "cell_type": "code",
   "execution_count": 14,
   "metadata": {},
   "outputs": [
    {
     "name": "stdout",
     "output_type": "stream",
     "text": [
      "Help on built-in function to_bytes:\n",
      "\n",
      "to_bytes(...) method of builtins.int instance\n",
      "    int.to_bytes(length, byteorder, *, signed=False) -> bytes\n",
      "    \n",
      "    Return an array of bytes representing an integer.\n",
      "    \n",
      "    The integer is represented using length bytes.  An OverflowError is\n",
      "    raised if the integer is not representable with the given number of\n",
      "    bytes.\n",
      "    \n",
      "    The byteorder argument determines the byte order used to represent the\n",
      "    integer.  If byteorder is 'big', the most significant byte is at the\n",
      "    beginning of the byte array.  If byteorder is 'little', the most\n",
      "    significant byte is at the end of the byte array.  To request the native\n",
      "    byte order of the host system, use `sys.byteorder' as the byte order value.\n",
      "    \n",
      "    The signed keyword-only argument determines whether two's complement is\n",
      "    used to represent the integer.  If signed is False and a negative integer\n",
      "    is given, an OverflowError is raised.\n",
      "\n"
     ]
    }
   ],
   "source": [
    "help(x.to_bytes)"
   ]
  },
  {
   "cell_type": "raw",
   "metadata": {},
   "source": [
    "the smallest part of the capacitor we called it a bit\n"
   ]
  },
  {
   "cell_type": "code",
   "execution_count": 13,
   "metadata": {},
   "outputs": [
    {
     "name": "stdout",
     "output_type": "stream",
     "text": [
      "He said,\"Python is awsome\"\n"
     ]
    }
   ],
   "source": [
    "s = \"He said,\\\"Python is awsome\\\"\"\n",
    "print(s)"
   ]
  },
  {
   "cell_type": "code",
   "execution_count": 15,
   "metadata": {},
   "outputs": [
    {
     "name": "stdout",
     "output_type": "stream",
     "text": [
      "\\\n"
     ]
    }
   ],
   "source": [
    "print(\"\\\\\")"
   ]
  },
  {
   "cell_type": "code",
   "execution_count": 20,
   "metadata": {},
   "outputs": [
    {
     "name": "stdout",
     "output_type": "stream",
     "text": [
      "12\n"
     ]
    }
   ],
   "source": [
    "s = \"Hello world!\"\n",
    "print(len(s))"
   ]
  },
  {
   "cell_type": "code",
   "execution_count": 21,
   "metadata": {},
   "outputs": [
    {
     "name": "stdout",
     "output_type": "stream",
     "text": [
      "w\n",
      "w\n"
     ]
    }
   ],
   "source": [
    "print(s[6])\n",
    "print(s[-6])"
   ]
  },
  {
   "cell_type": "raw",
   "metadata": {},
   "source": [
    "mutable --> those data type in which we can make change\n",
    "imutable --> those which are not mutable can "
   ]
  },
  {
   "cell_type": "code",
   "execution_count": 9,
   "metadata": {},
   "outputs": [
    {
     "name": "stdout",
     "output_type": "stream",
     "text": [
      "yeawh!drw\n"
     ]
    }
   ],
   "source": [
    "s = \"Hello world!! how are you\"\n",
    "print(s[22:5:-2])"
   ]
  },
  {
   "cell_type": "code",
   "execution_count": 4,
   "metadata": {},
   "outputs": [
    {
     "name": "stdout",
     "output_type": "stream",
     "text": [
      "Help on built-in function swapcase:\n",
      "\n",
      "swapcase(...) method of builtins.str instance\n",
      "    S.swapcase() -> str\n",
      "    \n",
      "    Return a copy of S with uppercase characters converted to lowercase\n",
      "    and vice versa.\n",
      "\n",
      "None\n"
     ]
    }
   ],
   "source": [
    "print(help(s.swapcase))"
   ]
  },
  {
   "cell_type": "code",
   "execution_count": 5,
   "metadata": {},
   "outputs": [
    {
     "name": "stdout",
     "output_type": "stream",
     "text": [
      "hello world\n"
     ]
    }
   ],
   "source": [
    "o = print('hello world')"
   ]
  },
  {
   "cell_type": "code",
   "execution_count": 8,
   "metadata": {},
   "outputs": [
    {
     "name": "stdout",
     "output_type": "stream",
     "text": [
      "['__bool__', '__class__', '__delattr__', '__dir__', '__doc__', '__eq__', '__format__', '__ge__', '__getattribute__', '__gt__', '__hash__', '__init__', '__init_subclass__', '__le__', '__lt__', '__ne__', '__new__', '__reduce__', '__reduce_ex__', '__repr__', '__setattr__', '__sizeof__', '__str__', '__subclasshook__']\n"
     ]
    }
   ],
   "source": [
    "print(dir(o))"
   ]
  },
  {
   "cell_type": "code",
   "execution_count": 15,
   "metadata": {},
   "outputs": [
    {
     "name": "stdout",
     "output_type": "stream",
     "text": [
      "hello world\n",
      "Enter x :5\n",
      "Enter y :6\n",
      "Addition of 5+6=11\n"
     ]
    }
   ],
   "source": [
    "print(\"hello world\")\n",
    "x = int(input(\"Enter x :\"))\n",
    "y = int(input(\"Enter y :\"))\n",
    "print(\"Addition of \"\"{}+{}={}\".format(x,y,x+y))"
   ]
  },
  {
   "cell_type": "code",
   "execution_count": 18,
   "metadata": {},
   "outputs": [
    {
     "name": "stdout",
     "output_type": "stream",
     "text": [
      "15 8748479238473\n"
     ]
    }
   ],
   "source": [
    "x = 15\n",
    "y = 8748479238473\n",
    "print(x,y)"
   ]
  },
  {
   "cell_type": "code",
   "execution_count": 6,
   "metadata": {},
   "outputs": [
    {
     "name": "stdout",
     "output_type": "stream",
     "text": [
      "2\n"
     ]
    }
   ],
   "source": [
    "x=1\n",
    "x+=1\n",
    "print(x)\n"
   ]
  },
  {
   "cell_type": "markdown",
   "metadata": {},
   "source": [
    "<h1 style='color:red'>DICTIONARY IN PYTHON </h1>"
   ]
  },
  {
   "cell_type": "code",
   "execution_count": null,
   "metadata": {},
   "outputs": [],
   "source": []
  }
 ],
 "metadata": {
  "kernelspec": {
   "display_name": "Python 3",
   "language": "python",
   "name": "python3"
  },
  "language_info": {
   "codemirror_mode": {
    "name": "ipython",
    "version": 3
   },
   "file_extension": ".py",
   "mimetype": "text/x-python",
   "name": "python",
   "nbconvert_exporter": "python",
   "pygments_lexer": "ipython3",
   "version": "3.6.5"
  }
 },
 "nbformat": 4,
 "nbformat_minor": 2
}
