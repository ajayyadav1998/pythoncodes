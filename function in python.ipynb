{
 "cells": [
  {
   "cell_type": "markdown",
   "metadata": {},
   "source": [
    "<h1 stle='color:red'>What is function?</h1>"
   ]
  },
  {
   "cell_type": "raw",
   "metadata": {},
   "source": [
    "definition\n",
    "return \n",
    "body\n",
    "\n",
    "types of functions \n",
    "1. Built in functions\n",
    "2. User define functions\n",
    "\n",
    "string always giv a sub string and we have to intialize it in another variable.\n",
    "\n",
    "syntax def function_name(args1,args2)\n",
    "\n",
    "what is formal arguments and actual arguments?\n",
    "formal - \n",
    "actual - when we call a function \n",
    "\n",
    "positional args\n",
    "keyword args\n",
    "default\n",
    "var length args\n",
    "\n",
    "exitstatus?\n"
   ]
  },
  {
   "cell_type": "code",
   "execution_count": 7,
   "metadata": {},
   "outputs": [],
   "source": [
    "def greeting():\n",
    "    print(\"Welcome to python \")\n",
    "    return 'Enjoy Coding' #if we write this after the function it only return the return value"
   ]
  },
  {
   "cell_type": "code",
   "execution_count": 8,
   "metadata": {},
   "outputs": [
    {
     "name": "stdout",
     "output_type": "stream",
     "text": [
      "Welcome to python \n",
      "Enjoy Coding\n"
     ]
    }
   ],
   "source": [
    "x= greeting()\n",
    "print(x)"
   ]
  },
  {
   "cell_type": "code",
   "execution_count": 15,
   "metadata": {},
   "outputs": [
    {
     "ename": "SyntaxError",
     "evalue": "invalid syntax (<ipython-input-15-7a015c6440f5>, line 4)",
     "output_type": "error",
     "traceback": [
      "\u001b[1;36m  File \u001b[1;32m\"<ipython-input-15-7a015c6440f5>\"\u001b[1;36m, line \u001b[1;32m4\u001b[0m\n\u001b[1;33m    x= hello('sachin'):\u001b[0m\n\u001b[1;37m                      ^\u001b[0m\n\u001b[1;31mSyntaxError\u001b[0m\u001b[1;31m:\u001b[0m invalid syntax\n"
     ]
    }
   ],
   "source": [
    "def hello(name):\n",
    "    print(\"Welcome mr. {} to the world of the python functions.\".format(name))\n",
    "    return 0\n",
    "if hello('sachin'):\n",
    "    print(\"funtions has some the serious issues\")\n",
    "else:\n",
    "    print(\"jai ho sachin baba ki\")"
   ]
  },
  {
   "cell_type": "code",
   "execution_count": 13,
   "metadata": {},
   "outputs": [
    {
     "name": "stdout",
     "output_type": "stream",
     "text": [
      "Enter a no. : 5\n",
      "given number is odd\n"
     ]
    }
   ],
   "source": [
    "def even(var):\n",
    "    if var%2 :\n",
    "        return ''\n",
    "    else:\n",
    "        return 'a'\n",
    "if even(int(input(\"Enter a no. : \"))):\n",
    "    print(\"Given nuber is even\")\n",
    "else:\n",
    "    print(\"given number is odd\")"
   ]
  },
  {
   "cell_type": "code",
   "execution_count": null,
   "metadata": {},
   "outputs": [],
   "source": [
    "def even(var):\n",
    "    if var%2 :\n",
    "        return ''\n",
    "    else:\n",
    "        return 'a'\n",
    "if even(int(input(\"Enter a no. : \"))):\n",
    "    print(\"Given nuber is even\")\n",
    "else:\n",
    "    print(\"given number is odd\")"
   ]
  }
 ],
 "metadata": {
  "kernelspec": {
   "display_name": "Python 3",
   "language": "python",
   "name": "python3"
  },
  "language_info": {
   "codemirror_mode": {
    "name": "ipython",
    "version": 3
   },
   "file_extension": ".py",
   "mimetype": "text/x-python",
   "name": "python",
   "nbconvert_exporter": "python",
   "pygments_lexer": "ipython3",
   "version": "3.6.5"
  }
 },
 "nbformat": 4,
 "nbformat_minor": 2
}
