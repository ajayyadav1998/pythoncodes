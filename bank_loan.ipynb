{
 "cells": [
  {
   "cell_type": "code",
   "execution_count": 2,
   "metadata": {},
   "outputs": [
    {
     "name": "stdout",
     "output_type": "stream",
     "text": [
      "Enter your age : 25\n",
      "Income Sources : \n",
      "1. Government\n",
      "2. Private\n",
      "Select any one :2\n",
      "Your chances are lower\n",
      "\n",
      "Enter your salary50000\n",
      "\n",
      "We will give you 8 lakhs loan\n"
     ]
    }
   ],
   "source": [
    "age=int(input(\"Enter your age : \"))\n",
    "if age <= 18:\n",
    "    print(\"घनी ओछी बात करदी \")\n",
    "else :\n",
    "    print(\"Income Sources : \\n1. Government\\n2. Private\")\n",
    "    src = int(input(\"Select any one :\"))\n",
    "    if src == 1:\n",
    "        print(\"Your chances are higher\\n\")\n",
    "        s=int(input(\"Enter your salay :\"))\n",
    "        if s <= 40000:\n",
    "            print(\"\\nWe will give 5 lakhs loan\")\n",
    "        elif s <= 80000:\n",
    "            print(\"\\nWe will give you 20 lakhs loan\")\n",
    "        elif s == 100000:\n",
    "             print(\"\\nWe will give you 1 crore loan\")\n",
    "        else :\n",
    "            print(\"\\nDon't cross your limits\")\n",
    "    elif src == 2:\n",
    "        print(\"Your chances are lower\\n\")\n",
    "        i=int(input(\"Enter your salary\"))\n",
    "        if i <= 40000:\n",
    "            print(\"\\nWe will give you 1 lakh loan\")\n",
    "        elif i <= 80000:\n",
    "            print(\"\\nWe will give you 8 lakhs loan\")\n",
    "        else :\n",
    "            print(\"\\nWe willl give you 20 lakhs loan\")\n",
    "    else :\n",
    "        print(\"\\nDon't be oversmart\")"
   ]
  },
  {
   "cell_type": "code",
   "execution_count": null,
   "metadata": {},
   "outputs": [],
   "source": [
    "x=input(\"enter foo/bar \").strip().lower()\n",
    "if x==\"foo\":\n",
    "    print(\"bar\")\n",
    "elif x==\"bar\":\n",
    "    print(\"foo\")\n",
    "else :\n",
    "    print(\"foo|bar\")"
   ]
  },
  {
   "cell_type": "code",
   "execution_count": null,
   "metadata": {},
   "outputs": [],
   "source": [
    "x=int(input(\"enter the first number :\"));y=int(input(\"enter the second number :\"));z=int(input(\"enter the second number\"))\n",
    "#print(x=int(input(\"enter the first number\" {})), y=int(input(\"enter the second number\"{})), z=int(input(\"enter the third number\"{})).format(x,y,z))\n",
    "if (x>y) and (x>z):\n",
    "    print(\"{} is largest\".format(x))\n",
    "elif (y>x) and (y>z):\n",
    "    print(\"{} is largest\".format(y))\n",
    "else :\n",
    "    print(\"{} is largest\".format(z))"
   ]
  },
  {
   "cell_type": "code",
   "execution_count": null,
   "metadata": {},
   "outputs": [],
   "source": [
    "#given no. is even or odd\n",
    "i=int(input(\"Enter the number :\"))\n",
    "if i%2==0:\n",
    "    print(\"Given number is even\")\n",
    "else:\n",
    "    print(\"Given number is odd\")"
   ]
  },
  {
   "cell_type": "code",
   "execution_count": null,
   "metadata": {},
   "outputs": [],
   "source": [
    "#maximum between two numbers\n",
    "x=int(input(\"Enter a first number\"))\n",
    "y=int(input(\"Enter a second number\"))\n",
    "if x>y:\n",
    "    print(\"x is greater\",x)\n",
    "else :\n",
    "    print(\"y is greater\",y)"
   ]
  },
  {
   "cell_type": "code",
   "execution_count": null,
   "metadata": {},
   "outputs": [],
   "source": [
    "#no. is positive or negetive or zero\n",
    "p=int(input(\"Enterr any positive and negative number or zero  \"))\n",
    "if p > 0 :\n",
    "    print(\"It is positive number \")\n",
    "elif p < 0 :\n",
    "    print(\"It is negative number \")\n",
    "else :\n",
    "    print(\"the number is zero \")"
   ]
  },
  {
   "cell_type": "code",
   "execution_count": null,
   "metadata": {},
   "outputs": [],
   "source": [
    "#charater is alphabet or not\n",
    "alpha=input(\"Enter a character :\")\n",
    "if alpha.isalpha():\n",
    "    print(\"it is a alphabet\")\n",
    "else:\n",
    "    print(\"it is not a alphabet\")"
   ]
  },
  {
   "cell_type": "code",
   "execution_count": null,
   "metadata": {},
   "outputs": [],
   "source": [
    "#check whether year is leap or not\n",
    "year=int(input(\"Enter year you want to see that is leap or not :\"))\n",
    "if (year%4==0 ) and (year % 100 or year % 400 ==0):\n",
    "    print(\"This is leap year\")\n",
    "else:\n",
    "    print(\"This is not a leap year\")"
   ]
  },
  {
   "cell_type": "code",
   "execution_count": null,
   "metadata": {},
   "outputs": [],
   "source": [
    "#check the alphabet is vowl or consonant\n",
    "var=input(\"Enter any alphabet :\")\n",
    "v=[\"a\",\"e\",\"i\",\"o\",\"u\",'A','E','I','O','U']\n",
    "if (var in v):\n",
    "    print(\"This is vowel\")\n",
    "elif(var !=v):\n",
    "    print( \"consonant\")\n",
    "else:\n",
    "    pass"
   ]
  },
  {
   "cell_type": "code",
   "execution_count": null,
   "metadata": {},
   "outputs": [],
   "source": [
    "#chck wether the no. is divisible by 5 or 11\n",
    "y=int(input(\"Enter the no. :\"))\n",
    "if (y % 5 == 0) and (y % 11 == 0):\n",
    "    print(\"no. is divisible 5 and 11\")\n",
    "else :    \n",
    "    print(\"this no. is not divisible by 5 and 11\")"
   ]
  },
  {
   "cell_type": "code",
   "execution_count": null,
   "metadata": {},
   "outputs": [],
   "source": [
    "if input(\"enter something\"):\n",
    "    print(\"it's too easy\")\n",
    "else:\n",
    "    print(\"i am a genious\")"
   ]
  },
  {
   "cell_type": "code",
   "execution_count": null,
   "metadata": {},
   "outputs": [],
   "source": [
    "if print(\"hello world\"):\n",
    "    print(\"i am good\")\n",
    "else:\n",
    "    print(\"i am fine\")"
   ]
  },
  {
   "cell_type": "code",
   "execution_count": null,
   "metadata": {},
   "outputs": [],
   "source": [
    "#check the character is alphabet digit or special symbol\n",
    "char=input(\"Enter a character :\")\n",
    "if char.isalpha():\n",
    "    print(\"The character is alphabet\")\n",
    "elif char.isdigit():\n",
    "    print(\"The character is digit\")\n",
    "elif (not char.isidentifier()):\n",
    "    print(\"The character is special symbol\")\n",
    "else:\n",
    "    print(\"घनी ओछी बात करदी \")"
   ]
  },
  {
   "cell_type": "code",
   "execution_count": null,
   "metadata": {},
   "outputs": [],
   "source": [
    "#this is in uppercase or lowercase\n",
    "inp=input(\"Enter something :\")\n",
    "if inp.isupper():\n",
    "    print(\"It is in uppercase\")\n",
    "elif inp.islower():\n",
    "    print(\"It is in lowercase\")\n",
    "else:\n",
    "    pass"
   ]
  },
  {
   "cell_type": "code",
   "execution_count": 3,
   "metadata": {},
   "outputs": [
    {
     "name": "stdout",
     "output_type": "stream",
     "text": [
      "Enter the week no. to know the day : 5\n",
      "Friday is the day on 5\n"
     ]
    }
   ],
   "source": [
    "data= {\n",
    "        0 :\"Sunday\",\n",
    "        1 :\"Monday\",\n",
    "        2 :\"Tuesday\",\n",
    "        3 :\"Wednesday\",\n",
    "        4 :\"Thrusday\",\n",
    "        5 :\"Friday\",\n",
    "        6 :\"Satuday\",\n",
    "        7 :\"Sunday\"\n",
    "      }\n",
    "\n",
    "meta=int(input(\"Enter the week no. to know the day : \"))\n",
    "data1=data.get(meta)\n",
    "if data1:\n",
    "    print(\"{} is the day on {}\".format(data1,meta))\n",
    "else :\n",
    "    print(\"Dafa ho chal\")"
   ]
  },
  {
   "cell_type": "code",
   "execution_count": null,
   "metadata": {},
   "outputs": [],
   "source": [
    "data={\n",
    "        1 : 31,\n",
    "        2 : 28,\n",
    "        3 : 31,\n",
    "        4 : 30,\n",
    "        5 : 31,\n",
    "        6 : 30,\n",
    "        7 : 31,\n",
    "        8 : 31,\n",
    "        9 : 30,\n",
    "        10: 31,\n",
    "        11: 30,\n",
    "        12: 31\n",
    "}\n",
    "game=int(input(\"Enter the month number to know how many days on that particular month :\"))\n",
    "g=data.get(game,None)\n",
    "if g:\n",
    "    print(\"{} days in this month {}\".format(g,game))\n",
    "else :\n",
    "    print(\"Bhai muuh mat lagggg dekh\")"
   ]
  },
  {
   "cell_type": "code",
   "execution_count": null,
   "metadata": {},
   "outputs": [],
   "source": [
    "#program for count the no. of notes in amount\n",
    "cash=int(input(\"enter amount : \"))\n",
    "if cash%2000 !=0:\n",
    "    print(\"1\")\n",
    "    if cash%500 !=0:\n",
    "        print(\"1\")\n",
    "    else:\n",
    "        print(\"0\")\n",
    "else:\n",
    "    print(\"0\")"
   ]
  },
  {
   "cell_type": "code",
   "execution_count": null,
   "metadata": {},
   "outputs": [],
   "source": [
    "#sides of traingle\n",
    "i=int(input(\"enter the first side\"))\n",
    "e=int(input(\"enter the second side\"))\n",
    "s=int(input(\"enter third side\"))\n",
    "#als=i+e+s\n",
    "if i==e==s:\n",
    "    print(\"Traingle is possible\")\n",
    "else:\n",
    "    print(\"Traingle is not possible\")"
   ]
  },
  {
   "cell_type": "code",
   "execution_count": null,
   "metadata": {},
   "outputs": [],
   "source": [
    "#isosceles equilateral scalene \n",
    "x=int(input(\"Enter the side of traingle :\"))\n",
    "y=int(input(\"Enter 2nd side of triangle :\"))\n",
    "z=int(input(\"Enter 3rd side of triangle :\"))\n",
    "if (x == y) and (y == z) and (z == x ):\n",
    "    print(\"This is equilateral traingle\")\n",
    "elif (x != y) and (y != z) and (z != x):\n",
    "    print(\"This is scalene traingle\")\n",
    "else:\n",
    "    print(\"This is isoceles\")"
   ]
  },
  {
   "cell_type": "code",
   "execution_count": null,
   "metadata": {},
   "outputs": [],
   "source": [
    "#average of marks\n",
    "print(\"write marks of each subject out of 100\")\n",
    "py=int(input(\"PHYSICS :\"))\n",
    "ch=int(input(\"CHEMISTRY :\"))\n",
    "bi=int(input(\"BIOLOGY :\"))\n",
    "ma=int(input(\"MATHEMATICS :\"))\n",
    "co=int(input(\"COMPUTER :\"))\n",
    "total=500\n",
    "per=(py+ch+bi+ma+co)/5\n",
    "print(per,end=\"%\")\n",
    "    "
   ]
  },
  {
   "cell_type": "code",
   "execution_count": null,
   "metadata": {},
   "outputs": [],
   "source": [
    "#salary hra and da\n",
    "sal=int(input(\"Enter you salary : \"))\n",
    "s = sal+(sal*20/100)+(sal*80/100)\n",
    "h = sal+(sal*25/100)+(sal*90/100)\n",
    "j = sal+(sal*30/100)+(sal*95/100)\n",
    "if sal <= 10000:\n",
    "    print(\"Your gross salary\",s)\n",
    "elif sal <= 20000:\n",
    "    print(\"Your gross salary\",h)\n",
    "else:\n",
    "    print(\"Your gross salary \",j)"
   ]
  },
  {
   "cell_type": "code",
   "execution_count": null,
   "metadata": {},
   "outputs": [],
   "source": [
    "u=int(input(\"Enter the units of your bill : \"))\n",
    "#k=0\n",
    "if u <= 50:\n",
    "    print(\"{} this amount you have to pay for first {} units\".format(u*.5,u))\n",
    "elif (u >= 50) and(u >= 150):\n",
    "    print(\"{} this amount you have to pay for second {} units\".format(u*.75,u))\n",
    "elif 150 <= 250:\n",
    "    print(\"{} this amount you have to pay for third {} units\".format(u*1.25,u))\n",
    "elif 250 <= 500:\n",
    "    print(\"{} this amount you have to pay for fourth {} units\".format(u*50,u))\n",
    "    \n"
   ]
  },
  {
   "cell_type": "code",
   "execution_count": null,
   "metadata": {},
   "outputs": [],
   "source": []
  },
  {
   "cell_type": "code",
   "execution_count": null,
   "metadata": {},
   "outputs": [],
   "source": []
  }
 ],
 "metadata": {
  "kernelspec": {
   "display_name": "Python 3",
   "language": "python",
   "name": "python3"
  },
  "language_info": {
   "codemirror_mode": {
    "name": "ipython",
    "version": 3
   },
   "file_extension": ".py",
   "mimetype": "text/x-python",
   "name": "python",
   "nbconvert_exporter": "python",
   "pygments_lexer": "ipython3",
   "version": "3.6.5"
  }
 },
 "nbformat": 4,
 "nbformat_minor": 2
}
