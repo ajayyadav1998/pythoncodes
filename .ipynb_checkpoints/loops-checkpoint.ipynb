{
 "cells": [
  {
   "cell_type": "code",
   "execution_count": 1,
   "metadata": {
    "scrolled": true
   },
   "outputs": [
    {
     "name": "stdout",
     "output_type": "stream",
     "text": [
      "The Zen of Python, by Tim Peters\n",
      "\n",
      "Beautiful is better than ugly.\n",
      "Explicit is better than implicit.\n",
      "Simple is better than complex.\n",
      "Complex is better than complicated.\n",
      "Flat is better than nested.\n",
      "Sparse is better than dense.\n",
      "Readability counts.\n",
      "Special cases aren't special enough to break the rules.\n",
      "Although practicality beats purity.\n",
      "Errors should never pass silently.\n",
      "Unless explicitly silenced.\n",
      "In the face of ambiguity, refuse the temptation to guess.\n",
      "There should be one-- and preferably only one --obvious way to do it.\n",
      "Although that way may not be obvious at first unless you're Dutch.\n",
      "Now is better than never.\n",
      "Although never is often better than *right* now.\n",
      "If the implementation is hard to explain, it's a bad idea.\n",
      "If the implementation is easy to explain, it may be a good idea.\n",
      "Namespaces are one honking great idea -- let's do more of those!\n"
     ]
    }
   ],
   "source": [
    "import this\n"
   ]
  },
  {
   "cell_type": "code",
   "execution_count": 4,
   "metadata": {},
   "outputs": [
    {
     "name": "stdout",
     "output_type": "stream",
     "text": [
      "Hello world  1\n",
      "Hello world  2\n",
      "Hello world  3\n",
      "Hello world  4\n",
      "Hello world  5\n",
      "Hello world  6\n",
      "Hello world  7\n",
      "Hello world  8\n",
      "Hello world  9\n",
      "Hello world  10\n"
     ]
    }
   ],
   "source": [
    "c = 1\n",
    "while c <= 10:\n",
    "    print(\"Hello world \",c)\n",
    "    c +=1"
   ]
  },
  {
   "cell_type": "code",
   "execution_count": 11,
   "metadata": {},
   "outputs": [
    {
     "name": "stdout",
     "output_type": "stream",
     "text": [
      "Hello world times 21\n",
      "Hello world times 42\n",
      "Hello world times 63\n",
      "Hello world times 84\n"
     ]
    }
   ],
   "source": [
    "c = 1\n",
    "while c <= 100:\n",
    "    if (c % 3 == 0) and (c % 7 == 0):\n",
    "        print(\"Hello world times\",c)\n",
    "    c += 1"
   ]
  },
  {
   "cell_type": "code",
   "execution_count": 1,
   "metadata": {},
   "outputs": [
    {
     "name": "stdout",
     "output_type": "stream",
     "text": [
      "enter the number95\n",
      "95*1=95\n",
      "95*2=190\n",
      "95*3=285\n",
      "95*4=380\n",
      "95*5=475\n",
      "95*6=570\n",
      "95*7=665\n",
      "95*8=760\n",
      "95*9=855\n",
      "95*10=950\n"
     ]
    }
   ],
   "source": [
    "i=int(input(\"enter the number\"))\n",
    "s=1\n",
    "while s <= 10 :\n",
    "    print(\"{}*{}={}\".format(i,s,i*s))\n",
    "    s += 1 "
   ]
  },
  {
   "cell_type": "code",
   "execution_count": 4,
   "metadata": {},
   "outputs": [
    {
     "name": "stdout",
     "output_type": "stream",
     "text": [
      "Enter a no. for table9\n",
      "9x1=9\n",
      "9x2=18\n",
      "9x3=27\n",
      "9x4=36\n",
      "9x5=45\n",
      "9x6=54\n",
      "9x7=63\n",
      "9x8=72\n",
      "9x9=81\n",
      "9x10=90\n"
     ]
    }
   ],
   "source": [
    "h=int(input(\"Enter a no. for table\"))\n",
    "s=1\n",
    "k=0\n",
    "while s <= 10:\n",
    "    k = k + h\n",
    "    print(\"{}x{}={}\".format(h,s,k))\n",
    "    s += 1"
   ]
  },
  {
   "cell_type": "code",
   "execution_count": 1,
   "metadata": {},
   "outputs": [
    {
     "name": "stdout",
     "output_type": "stream",
     "text": [
      "Enter a number : 4\n",
      "think bigger\n",
      "Enter a number : 36\n",
      "think lower\n",
      "Enter a number : 25\n",
      "congrats you are winner\n"
     ]
    }
   ],
   "source": [
    "from random import randint\n",
    "comGuess = randint(1,50)\n",
    "g = 5\n",
    "while g : \n",
    "    c = int(input(\"Enter a number : \"))\n",
    "    if c > comGuess:\n",
    "        print(\"think lower\")\n",
    "    elif c < comGuess:\n",
    "        print(\"think bigger\")\n",
    "    else:\n",
    "        print(\"congrats you are winner\")\n",
    "        break\n",
    "        \n",
    "    if g==1:\n",
    "        print(\"you are looser\")\n",
    "    g -=1\n",
    "    "
   ]
  },
  {
   "cell_type": "code",
   "execution_count": 10,
   "metadata": {},
   "outputs": [
    {
     "data": {
      "text/plain": [
       "51"
      ]
     },
     "execution_count": 10,
     "metadata": {},
     "output_type": "execute_result"
    }
   ],
   "source": [
    "from random import randint\n",
    "randint(1,100)"
   ]
  },
  {
   "cell_type": "code",
   "execution_count": 13,
   "metadata": {},
   "outputs": [
    {
     "name": "stdout",
     "output_type": "stream",
     "text": [
      "helloo zindgi\n",
      "helloo zindgi\n"
     ]
    }
   ],
   "source": [
    "c = 1\n",
    "while c <= 5:\n",
    "    \n",
    "    if c == 3:\n",
    "        break\n",
    "    print(\"helloo zindgi\")\n",
    "    c += 1"
   ]
  },
  {
   "cell_type": "code",
   "execution_count": 1,
   "metadata": {},
   "outputs": [
    {
     "name": "stdout",
     "output_type": "stream",
     "text": [
      "Hello world\n",
      "Hello world\n",
      "jai ho\n",
      "Hello world\n",
      "Hello world\n",
      "Hello world\n",
      "chal gya sala \n"
     ]
    }
   ],
   "source": [
    "g=1\n",
    "while g <= 5:\n",
    "    if g == 3:\n",
    "        print(\"jai ho\")\n",
    "    print(\"Hello world\")\n",
    "    g += 1\n",
    "else:\n",
    "    print(\"chal gya sala \")"
   ]
  },
  {
   "cell_type": "code",
   "execution_count": 22,
   "metadata": {},
   "outputs": [
    {
     "name": "stdout",
     "output_type": "stream",
     "text": [
      "enter the starting number 1\n",
      "enter the ending number1000\n",
      "55 - 110 - 165 - 220 - 275 - 330 - 385 - 440 - 495 - 550 - 605 - 660 - 715 - 770 - 825 - 880 - 935 - 990 - "
     ]
    }
   ],
   "source": [
    "s=int(input(\"enter the starting number \"))\n",
    "e=int(input(\"enter the ending number\"))\n",
    "\n",
    "while s <= e:\n",
    "    if s % 5 == 0 and s % 11 == 0:\n",
    "        print(s,end=\" - \")\n",
    "    s += 1"
   ]
  },
  {
   "cell_type": "code",
   "execution_count": null,
   "metadata": {},
   "outputs": [
    {
     "name": "stdout",
     "output_type": "stream",
     "text": [
      "Enter something :5\n",
      "hello world\n",
      "Enter something :l\n",
      "hello world\n",
      "Enter something :hh]\n",
      "hello world\n",
      "Enter something :\n"
     ]
    }
   ],
   "source": [
    "while input(\"Enter something :\") :\n",
    "    print(\"hello world\")\n",
    "else:\n",
    "    print(\"plz giv input\")"
   ]
  },
  {
   "cell_type": "code",
   "execution_count": null,
   "metadata": {},
   "outputs": [
    {
     "name": "stdout",
     "output_type": "stream",
     "text": [
      "Enter the number for factorial: 5\n"
     ]
    }
   ],
   "source": [
    "import math\n",
    "x=int(input(\"Enter the number for factorial: \"))\n",
    "y=int(input(\"Enter the number for factorial: \"))\n",
    "print(math.hypot(x*x + y*y))"
   ]
  },
  {
   "cell_type": "code",
   "execution_count": 9,
   "metadata": {},
   "outputs": [
    {
     "name": "stdout",
     "output_type": "stream",
     "text": [
      "['__doc__', '__loader__', '__name__', '__package__', '__spec__', 'acos', 'acosh', 'asin', 'asinh', 'atan', 'atan2', 'atanh', 'ceil', 'copysign', 'cos', 'cosh', 'degrees', 'e', 'erf', 'erfc', 'exp', 'expm1', 'fabs', 'factorial', 'floor', 'fmod', 'frexp', 'fsum', 'gamma', 'gcd', 'hypot', 'inf', 'isclose', 'isfinite', 'isinf', 'isnan', 'ldexp', 'lgamma', 'log', 'log10', 'log1p', 'log2', 'modf', 'nan', 'pi', 'pow', 'radians', 'sin', 'sinh', 'sqrt', 'tan', 'tanh', 'tau', 'trunc']\n"
     ]
    }
   ],
   "source": [
    "print(dir(math))"
   ]
  },
  {
   "cell_type": "code",
   "execution_count": 5,
   "metadata": {},
   "outputs": [
    {
     "name": "stdout",
     "output_type": "stream",
     "text": [
      "120\n"
     ]
    }
   ],
   "source": [
    "import math\n",
    "x=5\n",
    "print(math.factorial(x))"
   ]
  },
  {
   "cell_type": "code",
   "execution_count": 16,
   "metadata": {},
   "outputs": [
    {
     "name": "stdout",
     "output_type": "stream",
     "text": [
      "Enter the no. for factorial :5\n",
      "The factorial of 4 is 5\n",
      "The factorial of 3 is 20\n",
      "The factorial of 2 is 60\n",
      "The factorial of 1 is 120\n",
      "The factorial of 0 is 120\n"
     ]
    }
   ],
   "source": [
    "num=int(input(\"Enter the no. for factorial :\"))\n",
    "copy_n=num\n",
    "fact=1\n",
    "while num:\n",
    "    fact = fact * num\n",
    "    num -= 1\n",
    "    print(\"The factorial of {} is {}\".format(num,fact))  "
   ]
  },
  {
   "cell_type": "code",
   "execution_count": 17,
   "metadata": {},
   "outputs": [
    {
     "name": "stdout",
     "output_type": "stream",
     "text": [
      "Enter the no. for factorial :5\n",
      "The factorial of 5 is 120\n"
     ]
    }
   ],
   "source": [
    "num=int(input(\"Enter the no. for factorial :\"))\n",
    "copy_n=num\n",
    "fact=1\n",
    "while num:\n",
    "    fact = fact * num\n",
    "    num -= 1\n",
    "else:    \n",
    "     print(\"The factorial of {} is {}\".format(copy_n,fact))  "
   ]
  },
  {
   "cell_type": "code",
   "execution_count": 2,
   "metadata": {},
   "outputs": [
    {
     "name": "stdout",
     "output_type": "stream",
     "text": [
      "Enter the no. for factorial :5\n",
      "The factorial of 5 is 120\n"
     ]
    }
   ],
   "source": [
    "num=int(input(\"Enter the no. for factorial :\"))\n",
    "copy_n=num\n",
    "fact=1\n",
    "while num:\n",
    "    fact = fact * num\n",
    "    num -= 1\n",
    "print(\"The factorial of {} is {}\".format(copy_n,fact))  "
   ]
  },
  {
   "cell_type": "code",
   "execution_count": 6,
   "metadata": {},
   "outputs": [
    {
     "name": "stdout",
     "output_type": "stream",
     "text": [
      "Enter the number (divident):42\n",
      "Enter the number (divisor)7\n",
      "this is remainder of given number 0\n",
      "this is quotient of given number 6\n"
     ]
    }
   ],
   "source": [
    "num=int(input(\"Enter the number (divident):\"))\n",
    "nume=int(input(\"Enter the number (divisor)\"))\n",
    "while num:\n",
    "    copy= num%nume\n",
    "    print(\"this is remainder of given number\",copy)\n",
    "    will= num//nume\n",
    "    print(\"this is quotient of given number\",will)\n",
    "    break\n"
   ]
  },
  {
   "cell_type": "code",
   "execution_count": 19,
   "metadata": {},
   "outputs": [
    {
     "name": "stdout",
     "output_type": "stream",
     "text": [
      "hello\n",
      "1\n",
      "2\n",
      "3\n",
      "hi\n",
      "bye bye\n",
      "good to go\n",
      "let'do it\n",
      "7\n",
      "34\n",
      "\n",
      "\n",
      "\n",
      "\n",
      "34\n",
      "7\n",
      "let'do it\n",
      "good to go\n",
      "bye bye\n",
      "hi\n",
      "3\n",
      "2\n",
      "1\n",
      "hello\n"
     ]
    }
   ],
   "source": [
    "l = [ 'hello',1,2,3,'hi','bye bye','good to go','let\\'do it',7,34,]\n",
    "col=len(l)\n",
    "index=0\n",
    "while index < col:\n",
    "    print(l[index])\n",
    "    index += 1\n",
    "print()\n",
    "print(\"\\n\\n\")\n",
    "index = len(l)-1\n",
    "while index >= 0:\n",
    "    print(l[index])\n",
    "    index -= 1"
   ]
  },
  {
   "cell_type": "code",
   "execution_count": 4,
   "metadata": {},
   "outputs": [
    {
     "name": "stdout",
     "output_type": "stream",
     "text": [
      "34\n",
      "7\n",
      "let'do it\n",
      "good to go\n",
      "bye bye\n",
      "hi\n",
      "3\n",
      "2\n",
      "1\n",
      "hello\n"
     ]
    }
   ],
   "source": [
    "l = [ 'hello',1,2,3,'hi','bye bye','good to go','let\\'do it',7,34,]\n",
    "i = 1\n",
    "for item in l:\n",
    "    print(l[-i])\n",
    "    i = i+1"
   ]
  },
  {
   "cell_type": "code",
   "execution_count": 24,
   "metadata": {},
   "outputs": [
    {
     "name": "stdout",
     "output_type": "stream",
     "text": [
      "Enter number :134\n",
      "0\n"
     ]
    }
   ],
   "source": [
    "a= int(input(\"Enter number :\"))\n",
    "while a:\n",
    "    b=a%10\n",
    "    a=a//10\n",
    "    a -= 1\n",
    "    c = b+d\n",
    "print(c)"
   ]
  },
  {
   "cell_type": "code",
   "execution_count": 30,
   "metadata": {},
   "outputs": [
    {
     "name": "stdout",
     "output_type": "stream",
     "text": [
      "Enter a number:134\n",
      "The total sum of digits is: 8\n"
     ]
    }
   ],
   "source": [
    "n=int(input(\"Enter a number:\"))\n",
    "tot=0\n",
    "while(n>0):\n",
    "    dig=n%10\n",
    "    tot=tot+dig\n",
    "    n=n//10\n",
    "    #l -= 1  this is not important to put this statement in a loop\n",
    "print(\"The total sum of digits is:\",tot)"
   ]
  },
  {
   "cell_type": "code",
   "execution_count": 31,
   "metadata": {},
   "outputs": [
    {
     "name": "stdout",
     "output_type": "stream",
     "text": [
      "Enter the number :134\n",
      "the product of given number  12\n"
     ]
    }
   ],
   "source": [
    "#product of digits\n",
    "l=int(input(\"Enter the number :\"))\n",
    "j=1\n",
    "while (l>0):\n",
    "    g=l%10\n",
    "    j=j*g\n",
    "    l=l//10\n",
    "print(\"the product of given number \",j)"
   ]
  },
  {
   "cell_type": "code",
   "execution_count": 34,
   "metadata": {},
   "outputs": [
    {
     "name": "stdout",
     "output_type": "stream",
     "text": [
      "enter the number :134\n",
      "4\t13\t3\t1\t8\n"
     ]
    }
   ],
   "source": [
    "a=int(input(\"enter the number :\"))\n",
    "b = a%10\n",
    "a = a//10\n",
    "c = a%10\n",
    "d = a//10\n",
    "print(b,a,c,d,b+c+d,sep=\"\\t\")"
   ]
  },
  {
   "cell_type": "code",
   "execution_count": 1,
   "metadata": {},
   "outputs": [
    {
     "name": "stdout",
     "output_type": "stream",
     "text": [
      "H\n",
      "e\n",
      "l\n",
      "l\n",
      "o\n",
      " \n",
      "h\n",
      "o\n",
      "w\n",
      " \n",
      "a\n",
      "r\n",
      "e\n",
      " \n",
      "y\n",
      "o\n",
      "u\n",
      " \n"
     ]
    }
   ],
   "source": [
    "s = \"Hello how are you \"\n",
    "for x in s:\n",
    "    print(x)"
   ]
  },
  {
   "cell_type": "code",
   "execution_count": 11,
   "metadata": {},
   "outputs": [
    {
     "name": "stdout",
     "output_type": "stream",
     "text": [
      "['hello', 1, 2, 3, 'hi', 'pyhtoo', 'java', 'c', 'c++']\n",
      "['hello', 1, 2, 3, 'hi', 'pyhtoo', 'java', 'c', 'c++']\n",
      "['hello', 1, 2, 3, 'hi', 'pyhtoo', 'java', 'c', 'c++']\n",
      "['hello', 1, 2, 3, 'hi', 'pyhtoo', 'java', 'c', 'c++']\n",
      "['hello', 1, 2, 3, 'hi', 'pyhtoo', 'java', 'c', 'c++']\n",
      "['hello', 1, 2, 3, 'hi', 'pyhtoo', 'java', 'c', 'c++']\n",
      "['hello', 1, 2, 3, 'hi', 'pyhtoo', 'java', 'c', 'c++']\n",
      "['hello', 1, 2, 3, 'hi', 'pyhtoo', 'java', 'c', 'c++']\n",
      "['hello', 1, 2, 3, 'hi', 'pyhtoo', 'java', 'c', 'c++']\n"
     ]
    }
   ],
   "source": [
    "l =['hello',1,2,3,'hi','pyhtoo','java','c','c++']\n",
    "for item in l :\n",
    "    print(l)"
   ]
  },
  {
   "cell_type": "code",
   "execution_count": 10,
   "metadata": {},
   "outputs": [
    {
     "name": "stdout",
     "output_type": "stream",
     "text": [
      "hello\n",
      "1\n",
      "2\n",
      "3\n",
      "hi\n",
      "pyhtoo\n",
      "java\n"
     ]
    }
   ],
   "source": [
    "l =['hello',1,2,3,'hi','pyhtoo','java']\n",
    "for item in l :\n",
    "    print(item)"
   ]
  },
  {
   "cell_type": "code",
   "execution_count": 12,
   "metadata": {},
   "outputs": [
    {
     "name": "stdout",
     "output_type": "stream",
     "text": [
      "{'name': 'ajay', 'age': 20, 'country': 'india', 'hobby': 'python'}\n"
     ]
    }
   ],
   "source": [
    "d  = {'name':'ajay','age':20,'country':'india','hobby':'python'\n",
    "}\n",
    "print(d)"
   ]
  },
  {
   "cell_type": "code",
   "execution_count": 13,
   "metadata": {},
   "outputs": [
    {
     "name": "stdout",
     "output_type": "stream",
     "text": [
      "name\n",
      "age\n",
      "country\n",
      "hobby\n"
     ]
    }
   ],
   "source": [
    "for something in d:\n",
    "    print(something)"
   ]
  },
  {
   "cell_type": "code",
   "execution_count": 14,
   "metadata": {},
   "outputs": [
    {
     "data": {
      "text/plain": [
       "'ajay'"
      ]
     },
     "execution_count": 14,
     "metadata": {},
     "output_type": "execute_result"
    }
   ],
   "source": [
    "d['name']"
   ]
  },
  {
   "cell_type": "code",
   "execution_count": 16,
   "metadata": {},
   "outputs": [
    {
     "name": "stdout",
     "output_type": "stream",
     "text": [
      "a = b\n",
      "c = d\n",
      "e = f\n",
      "g = h\n",
      "i = j\n",
      "k = l\n"
     ]
    }
   ],
   "source": [
    "l = ['ab','cd','ef','gh','ij','kl']\n",
    "for v1,v2 in l:\n",
    "    print(\"{} = {}\".format(v1,v2))"
   ]
  },
  {
   "cell_type": "code",
   "execution_count": 17,
   "metadata": {},
   "outputs": [
    {
     "name": "stdout",
     "output_type": "stream",
     "text": [
      "h e l l o\n",
      "h i i i i\n",
      "b y e e e\n"
     ]
    }
   ],
   "source": [
    "l = [\"hello\",\"hiiii\",'byeee']\n",
    "for a,b,c,d,e in l:\n",
    "    print(a,b,c,d,e)"
   ]
  },
  {
   "cell_type": "code",
   "execution_count": 6,
   "metadata": {},
   "outputs": [
    {
     "name": "stdout",
     "output_type": "stream",
     "text": [
      "hello hiiii byeee\n"
     ]
    }
   ],
   "source": [
    "l = [(\"hello\",\"hiiii\",'byeee')]\n",
    "for a,b,c in l:\n",
    "    print(a,b,c)"
   ]
  },
  {
   "cell_type": "code",
   "execution_count": 22,
   "metadata": {},
   "outputs": [
    {
     "name": "stdout",
     "output_type": "stream",
     "text": [
      "1 10\n",
      "2 9\n",
      "3 8\n",
      "4 7\n",
      "5 6\n",
      "6 5\n",
      "7 4\n",
      "8 3\n",
      "9 2\n",
      "10 1\n"
     ]
    }
   ],
   "source": [
    "l1 = [1,2,3,4,5,6,7,8,9,10]\n",
    "l2 = [10,9,8,7,6,5,4,3,2,1]\n",
    "\n",
    "for v1,v2 in zip(l1,l2):\n",
    "    print(v1,v2)"
   ]
  },
  {
   "cell_type": "code",
   "execution_count": null,
   "metadata": {},
   "outputs": [],
   "source": [
    "l=[]\n",
    "for var in '12345':\n",
    "    name = input(\"Enter a name :\")\n",
    "    l.append(name)\n",
    "print(l)"
   ]
  },
  {
   "cell_type": "code",
   "execution_count": null,
   "metadata": {},
   "outputs": [],
   "source": [
    "s = \"python\"\n",
    "s = iter(s)"
   ]
  },
  {
   "cell_type": "code",
   "execution_count": null,
   "metadata": {},
   "outputs": [],
   "source": [
    "next(s)"
   ]
  },
  {
   "cell_type": "code",
   "execution_count": 3,
   "metadata": {},
   "outputs": [
    {
     "name": "stdout",
     "output_type": "stream",
     "text": [
      "***********\n",
      "**********\n",
      "*********\n",
      "********\n",
      "*******\n",
      "******\n",
      "*****\n",
      "****\n",
      "***\n",
      "**\n",
      "*\n"
     ]
    }
   ],
   "source": [
    "\n",
    "row = 10\n",
    "while row >= 0:\n",
    "    column = 0\n",
    "    while column <= row:\n",
    "        print(\"*\",end='')\n",
    "        column += 1  \n",
    "    print ()\n",
    "    row -= 1    \n",
    "    "
   ]
  },
  {
   "cell_type": "code",
   "execution_count": 5,
   "metadata": {},
   "outputs": [
    {
     "name": "stdout",
     "output_type": "stream",
     "text": [
      "*\n",
      "**\n",
      "***\n",
      "****\n",
      "*****\n",
      "******\n",
      "*******\n",
      "********\n",
      "*********\n",
      "**********\n",
      "***********\n"
     ]
    }
   ],
   "source": [
    "row = 0\n",
    "while row <= 10:\n",
    "    column = 0\n",
    "    while column <= row:\n",
    "        print(\"*\",end='')\n",
    "        column += 1\n",
    "    print(\"\")\n",
    "    row += 1"
   ]
  },
  {
   "cell_type": "code",
   "execution_count": 10,
   "metadata": {},
   "outputs": [
    {
     "name": "stdout",
     "output_type": "stream",
     "text": [
      "Enter the number of rows : 5\n",
      "1\n",
      "12\n",
      "123\n",
      "1234\n",
      "12345\n"
     ]
    }
   ],
   "source": [
    "n = int(input(\"Enter the number of rows : \"))\n",
    "for i in range(1,n+1):\n",
    "    for j in range(1,i+1):\n",
    "        print(j,end='')\n",
    "    print()"
   ]
  },
  {
   "cell_type": "code",
   "execution_count": 52,
   "metadata": {},
   "outputs": [
    {
     "name": "stdout",
     "output_type": "stream",
     "text": [
      "1  \n",
      "2 3  \n",
      "4 5 6  \n",
      "7 8 9 10  \n",
      "11 12 13 14 15  \n"
     ]
    }
   ],
   "source": [
    "n = 1\n",
    "for i in range(0,5):\n",
    "    for j in range(0,i+1):\n",
    "        print(n,end=' ')\n",
    "        n +=1\n",
    "    print(\" \")"
   ]
  },
  {
   "cell_type": "code",
   "execution_count": 13,
   "metadata": {},
   "outputs": [
    {
     "name": "stdout",
     "output_type": "stream",
     "text": [
      "***********\n",
      "**********\n",
      "*********\n",
      "********\n",
      "*******\n",
      "******\n",
      "*****\n",
      "****\n",
      "***\n",
      "**\n",
      "*\n"
     ]
    }
   ],
   "source": [
    "row = 10 \n",
    "while row >= 0:\n",
    "    column = 0 \n",
    "    while column <= row:\n",
    "        print(\"*\",end='')\n",
    "        column +=1 \n",
    "    print(\"\")\n",
    "    row -= 1"
   ]
  },
  {
   "cell_type": "code",
   "execution_count": 29,
   "metadata": {},
   "outputs": [
    {
     "name": "stdout",
     "output_type": "stream",
     "text": [
      " \n",
      "* \n",
      "** \n",
      "*** \n",
      "**** \n",
      "***** \n",
      "****** \n",
      "******* \n",
      "******** \n",
      "********* \n"
     ]
    }
   ],
   "source": [
    "for var in range(10):\n",
    "    print('*'*(var-0),end=' ')\n",
    "    print(\"\")"
   ]
  },
  {
   "cell_type": "code",
   "execution_count": 9,
   "metadata": {},
   "outputs": [
    {
     "name": "stdout",
     "output_type": "stream",
     "text": [
      "**********\n",
      "*********\n",
      "********\n",
      "*******\n",
      "******\n",
      "*****\n",
      "****\n",
      "***\n",
      "**\n",
      "*\n"
     ]
    }
   ],
   "source": [
    "for var in range(10,0,-1):\n",
    "    print(\"*\"*(var-0),end='')\n",
    "    print(\"\")"
   ]
  },
  {
   "cell_type": "code",
   "execution_count": 53,
   "metadata": {},
   "outputs": [
    {
     "name": "stdout",
     "output_type": "stream",
     "text": [
      "          \n",
      "         *\n",
      "        **\n",
      "       ***\n",
      "      ****\n",
      "     *****\n",
      "    ******\n",
      "   *******\n",
      "  ********\n",
      " *********\n"
     ]
    }
   ],
   "source": [
    "for var in range(10):\n",
    "    print(\" \"*(10-var),end='')\n",
    "    print(\"*\"*var)"
   ]
  },
  {
   "cell_type": "code",
   "execution_count": 39,
   "metadata": {},
   "outputs": [
    {
     "name": "stdout",
     "output_type": "stream",
     "text": [
      "\n",
      " \n",
      "*  \n",
      "**   \n",
      "***    \n",
      "****     \n",
      "*****      \n",
      "******       \n",
      "*******        \n",
      "********         \n"
     ]
    }
   ],
   "source": [
    "for var in range(10):\n",
    "    print(\"*\"*(var-1),end=\"\")\n",
    "    print(\" \"*var)"
   ]
  },
  {
   "cell_type": "code",
   "execution_count": 23,
   "metadata": {},
   "outputs": [
    {
     "name": "stdout",
     "output_type": "stream",
     "text": [
      "0\t1\t1\t2\t3\t5\t8\t13\t21\t34\t55\t89\t144\t233\t377\t610\t987\t1597\t2584\t4181\t"
     ]
    }
   ],
   "source": [
    "first=0\n",
    "second=1\n",
    "for var in range(0,20):\n",
    "    print(first,end='\\t')\n",
    "    first,second=second,first+second\n",
    "    "
   ]
  },
  {
   "cell_type": "code",
   "execution_count": 28,
   "metadata": {},
   "outputs": [
    {
     "name": "stdout",
     "output_type": "stream",
     "text": [
      "7 5\t"
     ]
    }
   ],
   "source": [
    "x = 5\n",
    "y = 7\n",
    "x,y=y,x\n",
    "print(x,y)"
   ]
  },
  {
   "cell_type": "code",
   "execution_count": 31,
   "metadata": {},
   "outputs": [
    {
     "name": "stdout",
     "output_type": "stream",
     "text": [
      "7\n",
      "5\n"
     ]
    }
   ],
   "source": [
    "x=5\n",
    "y=7\n",
    "temp=0\n",
    "\n",
    "temp=x\n",
    "x=y\n",
    "y=temp\n",
    "\n",
    "print(x)\n",
    "print(y)"
   ]
  },
  {
   "cell_type": "code",
   "execution_count": null,
   "metadata": {},
   "outputs": [],
   "source": [
    "n = int(input(\"enter the number for series : \"))\n",
    "f=0\n",
    "s=1\n",
    "for var in range(n):\n",
    "    print(f,end=\"\\t\")\n",
    "    f,s=s,f+s\n",
    "    if n==10:\n",
    "        break"
   ]
  },
  {
   "cell_type": "code",
   "execution_count": null,
   "metadata": {},
   "outputs": [],
   "source": [
    "m = int(input(\"Enter the no. rows :\")) \n",
    "n = int(input(\"Enter the no. colmns\"))\n",
    "x= m*n\n",
    "c=int(input(\"Enter inputs for matrix\"))\n",
    "l = []\n"
   ]
  },
  {
   "cell_type": "code",
   "execution_count": null,
   "metadata": {},
   "outputs": [],
   "source": []
  }
 ],
 "metadata": {
  "kernelspec": {
   "display_name": "Python 3",
   "language": "python",
   "name": "python3"
  },
  "language_info": {
   "codemirror_mode": {
    "name": "ipython",
    "version": 3
   },
   "file_extension": ".py",
   "mimetype": "text/x-python",
   "name": "python",
   "nbconvert_exporter": "python",
   "pygments_lexer": "ipython3",
   "version": "3.6.5"
  }
 },
 "nbformat": 4,
 "nbformat_minor": 2
}
