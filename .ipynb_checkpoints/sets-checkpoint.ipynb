{
 "cells": [
  {
   "cell_type": "code",
   "execution_count": null,
   "metadata": {},
   "outputs": [],
   "source": [
    "data =  {'username' : [],\n",
    "        'account_no.' : [],\n",
    "        'in_balance' : [],\n",
    "        'password' : [],}\n",
    "acc=160000"
   ]
  },
  {
   "cell_type": "code",
   "execution_count": null,
   "metadata": {},
   "outputs": [],
   "source": [
    "data['username'].append(input(\"Enter Useraname : \"))\n",
    "data['in_balance'].append(int(input(\"In Balance: \")))\n",
    "data['password'].append(input(\"Enter Your Password : \"))\n",
    "i = 1\n",
    "acc=acc+i \n",
    "data['account_no.'].append(acc)\n",
    "print(\"\\n\\n\")\n",
    "print(data)"
   ]
  },
  {
   "cell_type": "code",
   "execution_count": null,
   "metadata": {},
   "outputs": [],
   "source": []
  }
 ],
 "metadata": {
  "kernelspec": {
   "display_name": "Python 3",
   "language": "python",
   "name": "python3"
  },
  "language_info": {
   "codemirror_mode": {
    "name": "ipython",
    "version": 3
   },
   "file_extension": ".py",
   "mimetype": "text/x-python",
   "name": "python",
   "nbconvert_exporter": "python",
   "pygments_lexer": "ipython3",
   "version": "3.6.5"
  }
 },
 "nbformat": 4,
 "nbformat_minor": 2
}
