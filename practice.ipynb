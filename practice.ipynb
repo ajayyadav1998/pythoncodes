{
 "cells": [
  {
   "cell_type": "code",
   "execution_count": 7,
   "metadata": {},
   "outputs": [
    {
     "name": "stdout",
     "output_type": "stream",
     "text": [
      "Enter number of rows : 2\n",
      "Enter number of columns : 2\n",
      "Enter Matrix[0][0] : 1\n",
      "Enter Matrix[0][1] : 2\n",
      "\n",
      "Enter Matrix[1][0] : 3\n",
      "Enter Matrix[1][1] : 4\n",
      "\n",
      "\n",
      "\n",
      "\n",
      "\t\t\t1\t2\n",
      "\n",
      "\n",
      "\n",
      "\t\t\t3\t4\n"
     ]
    }
   ],
   "source": [
    "#matrix input mxn\n",
    "m = int(input(\"Enter number of rows : \"))\n",
    "n = int(input(\"Enter number of columns : \"))\n",
    "matrix = []\n",
    "for row in range(m): \n",
    "    columns = []\n",
    "    for col in range(n): \n",
    "        data = int(input(\"Enter Matrix[{}][{}] : \".format(row,col)))\n",
    "        columns.append(data)\n",
    "    print()\n",
    "    matrix.append(columns)\n",
    "\n",
    "for var in matrix : \n",
    "    print(\"\\n\\n\")\n",
    "    print(\"\\t\\t\",*var,sep='\\t',end='\\n')"
   ]
  },
  {
   "cell_type": "code",
   "execution_count": 3,
   "metadata": {},
   "outputs": [
    {
     "name": "stdout",
     "output_type": "stream",
     "text": [
      "Enter number of rows : 2\n",
      "Enter number of columns : 3\n",
      "\n",
      "\n",
      "\n",
      "\t\t\n",
      "\n",
      "\n",
      "\n",
      "\t\t\n"
     ]
    }
   ],
   "source": [
    "#matrix input mxn\n",
    "m = int(input(\"Enter number of rows : \"))\n",
    "n = int(input(\"Enter number of columns : \"))\n",
    "matrix = [\n",
    "    [] for var in range(m)\n",
    "]\n",
    "\n",
    "for var in matrix : \n",
    "    print(\"\\n\\n\")\n",
    "    print(\"\\t\\t\",*var,sep='\\t',end='\\n')"
   ]
  },
  {
   "cell_type": "code",
   "execution_count": 6,
   "metadata": {},
   "outputs": [
    {
     "name": "stdout",
     "output_type": "stream",
     "text": [
      "Enter number of rows2\n",
      "Enter no of columns : 2\n",
      "matrix[0][0]2\n",
      "matrix[0][1]1\n",
      "matrix[1][0]3\n",
      "matrix[1][1]1\n",
      "[2, 1] [3, 1]\n"
     ]
    }
   ],
   "source": [
    "m = int(input(\"Enter number of rows\"))\n",
    "n = int(input(\"Enter no of columns : \"))\n",
    "matrix = [ [ int(input(\"matrix[{}][{}]\".format(row,col))) for col in \\\n",
    "       range(n) ]\\\n",
    "     for row in range(m)]\n",
    "print(*matrix)"
   ]
  },
  {
   "cell_type": "code",
   "execution_count": 20,
   "metadata": {},
   "outputs": [
    {
     "name": "stdout",
     "output_type": "stream",
     "text": [
      "Enter number of rows : 3\n",
      "Enter row[0] : 1 2 3 4\n",
      "Enter row[1] : 5 6 7 8\n",
      "Enter row[2] : 9 10 11 12\n"
     ]
    }
   ],
   "source": [
    "m = int(input(\"Enter number of rows : \"))\n",
    "matrix = [\n",
    "    \n",
    "    list(map(int,input(\"Enter row[{}] : \".format(row)).split())) for row in range(m)\n",
    "] "
   ]
  },
  {
   "cell_type": "code",
   "execution_count": 24,
   "metadata": {},
   "outputs": [
    {
     "name": "stdout",
     "output_type": "stream",
     "text": [
      "\t\t\t1\t2\t3\t4\n",
      "\t\t\t5\t6\t7\t8\n",
      "\t\t\t9\t10\t11\t12\n"
     ]
    }
   ],
   "source": [
    "for rows in matrix : \n",
    "    print(\"\\t\\t\",*rows,sep='\\t')"
   ]
  },
  {
   "cell_type": "code",
   "execution_count": 8,
   "metadata": {},
   "outputs": [
    {
     "name": "stdout",
     "output_type": "stream",
     "text": [
      "[[0], [1], [2], [3], [4], [5], [6], [7]]\n"
     ]
    }
   ],
   "source": [
    "m = [[var]for var in range(8)]\n",
    "print(m,sep)"
   ]
  },
  {
   "cell_type": "code",
   "execution_count": null,
   "metadata": {},
   "outputs": [],
   "source": []
  },
  {
   "cell_type": "code",
   "execution_count": 2,
   "metadata": {},
   "outputs": [
    {
     "name": "stdout",
     "output_type": "stream",
     "text": [
      "0\t1\t1\t2\t3\t5\t8\t13\t21\t34\t"
     ]
    }
   ],
   "source": [
    "first=0\n",
    "second=1\n",
    "for var in range(10):\n",
    "    print(first,end='\\t')\n",
    "    first,second=second,first+second"
   ]
  },
  {
   "cell_type": "code",
   "execution_count": 25,
   "metadata": {},
   "outputs": [
    {
     "name": "stdout",
     "output_type": "stream",
     "text": [
      "0\t1\t1\t2\t3\t5\t8\t13\t21\t34\t"
     ]
    }
   ],
   "source": [
    "first=0\n",
    "second=1\n",
    "for var in range(10):\n",
    "    print(first,end='\\t')\n",
    "    temp=first\n",
    "    first=second\n",
    "    second=temp+second"
   ]
  },
  {
   "cell_type": "code",
   "execution_count": 26,
   "metadata": {},
   "outputs": [
    {
     "name": "stdout",
     "output_type": "stream",
     "text": [
      "25\n"
     ]
    }
   ],
   "source": [
    "def pow(b,p):\n",
    "    y= b**p\n",
    "    return y\n",
    "\n",
    "def square(x):\n",
    "    a= pow(x,2)\n",
    "    return a\n",
    "\n",
    "n = 5\n",
    "result = square(n)\n",
    "print(result)"
   ]
  },
  {
   "cell_type": "code",
   "execution_count": 28,
   "metadata": {},
   "outputs": [
    {
     "name": "stdout",
     "output_type": "stream",
     "text": [
      "Enter the number5\n",
      "25\n",
      "125\n"
     ]
    }
   ],
   "source": [
    "def squareit(n):\n",
    "    return n*n\n",
    "    \n",
    "def cubeit(n):\n",
    "    return n*n*n\n",
    "\n",
    "anum=int(input(\"Enter the number\"))\n",
    "print(squareit(anum))\n",
    "print(cubeit(anum))"
   ]
  },
  {
   "cell_type": "code",
   "execution_count": 31,
   "metadata": {},
   "outputs": [
    {
     "data": {
      "text/plain": [
       "2.23606797749979"
      ]
     },
     "execution_count": 31,
     "metadata": {},
     "output_type": "execute_result"
    }
   ],
   "source": [
    "5**0.5"
   ]
  },
  {
   "cell_type": "code",
   "execution_count": 3,
   "metadata": {},
   "outputs": [],
   "source": [
    "def power(b,p):\n",
    "    y=b**p\n",
    "    return y\n"
   ]
  },
  {
   "cell_type": "code",
   "execution_count": 8,
   "metadata": {},
   "outputs": [
    {
     "name": "stdout",
     "output_type": "stream",
     "text": [
      "Enter the number : 5\n",
      "Enter the number for power : 2\n",
      "25\n"
     ]
    }
   ],
   "source": [
    "m=int(input(\"Enter the number : \"))\n",
    "n=int(input(\"Enter the number for power : \"))\n",
    "j = power(m,n)\n",
    "print(j)"
   ]
  },
  {
   "cell_type": "code",
   "execution_count": 12,
   "metadata": {},
   "outputs": [
    {
     "name": "stdout",
     "output_type": "stream",
     "text": [
      "enter the starting point| 1\n",
      "enter the ending point| 100\n",
      "100,98,96,94,92,90,88,86,84,82,80,78,76,74,72,70,68,66,64,62,60,58,56,54,52,50,48,46,44,42,40,38,36,34,32,30,28,26,24,22,20,18,16,14,12,10,8,6,4,2,"
     ]
    }
   ],
   "source": [
    "s=int(input(\"enter the starting point| \"))\n",
    "k=int(input(\"enter the ending point| \"))\n",
    "k1=k\n",
    "while s <= k:\n",
    "    if k % 2 == 0 :\n",
    "        print(k,end=\",\")\n",
    "    k -= 1"
   ]
  },
  {
   "cell_type": "code",
   "execution_count": null,
   "metadata": {},
   "outputs": [],
   "source": [
    "s=int(input(\"enter the starting point| \"))\n",
    "k=int(input(\"enter the ending point| \"))\n",
    "\n",
    "while s <= k:\n",
    "    if s % 2 == 0 :\n",
    "        print(s,end=\",\")\n",
    "    if s % 1 == 0:\n",
    "        print(s,end=\",\")\n",
    "    s += 1"
   ]
  },
  {
   "cell_type": "code",
   "execution_count": 20,
   "metadata": {},
   "outputs": [
    {
     "name": "stdout",
     "output_type": "stream",
     "text": [
      "enter the number of row :5\n",
      "[5, 5, 5, 5, 5]\n"
     ]
    }
   ],
   "source": [
    "l = []\n",
    "n = int(input('enter the number of row :'))\n",
    "for var in range(5):\n",
    "    l.append(n)\n",
    "print(l)"
   ]
  },
  {
   "cell_type": "code",
   "execution_count": 2,
   "metadata": {},
   "outputs": [
    {
     "name": "stdout",
     "output_type": "stream",
     "text": [
      "Enter n :2\n",
      "Enter m :3\n",
      "1 2 3\n",
      "4 5 6\n",
      "A[2][3]7\n",
      "A[2][3]8\n",
      "A[2][3]9\n",
      "A[2][3]10\n",
      "A[2][3]11\n",
      "A[2][3]12\n",
      "[[1, 2, 3], [4, 5, 6]]\n",
      "[[7, 8, 9], [10, 11, 12]]\n"
     ]
    }
   ],
   "source": [
    "n = int(input(\"Enter n :\"))\n",
    "m = int(input(\"Enter m :\"))\n",
    "\n",
    "def getmatrix():\n",
    "    A = []\n",
    "    for row in range(n):\n",
    "        t = list(map(int,input().split()))\n",
    "        A.append(t)\n",
    "    return A\n",
    "def old_get():\n",
    "    A = []\n",
    "    for row in range(n):\n",
    "        t = []\n",
    "        for col in range(m):\n",
    "            t.append(int(input(\"A[{}][{}]\".format(n,m))))\n",
    "        A.append(t)\n",
    "    return A\n",
    "A = getmatrix()\n",
    "B = old_get()\n",
    "print(A)\n",
    "print(B)"
   ]
  },
  {
   "cell_type": "code",
   "execution_count": null,
   "metadata": {},
   "outputs": [],
   "source": []
  }
 ],
 "metadata": {
  "kernelspec": {
   "display_name": "Python 3",
   "language": "python",
   "name": "python3"
  },
  "language_info": {
   "codemirror_mode": {
    "name": "ipython",
    "version": 3
   },
   "file_extension": ".py",
   "mimetype": "text/x-python",
   "name": "python",
   "nbconvert_exporter": "python",
   "pygments_lexer": "ipython3",
   "version": "3.6.5"
  }
 },
 "nbformat": 4,
 "nbformat_minor": 2
}
